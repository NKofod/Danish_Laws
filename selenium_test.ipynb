{
 "cells": [
  {
   "cell_type": "code",
   "execution_count": 127,
   "metadata": {},
   "outputs": [],
   "source": [
    "from selenium import webdriver \n",
    "from selenium.webdriver.chrome.service import Service\n",
    "from webdriver_manager.chrome import ChromeDriverManager\n",
    "from selenium.webdriver.common.by import By \n",
    "import time \n",
    "from selenium.webdriver.support.ui import WebDriverWait\n",
    "from selenium.webdriver.support import expected_conditions as EC \n",
    "import json "
   ]
  },
  {
   "cell_type": "code",
   "execution_count": 128,
   "metadata": {},
   "outputs": [],
   "source": [
    "base_url = \"https://www.retsinformation.dk/documents?dt=10&dt=1480&dt=20&dt=30&dt=40&dt=50&dt=90&dt=120&dt=270&dt=60&dt=100&dt=80&dt=110&dt=130&dt=140&dt=150&dt=160&dt=170&dt=180&dt=200&dt=210&dt=220&dt=1510&dt=1490&dt=-10&dt=230&dt=240&dt=250&dt=260&dt=980&dt=360&dt=400&dt=380&dt=420&dt=1530&dt=440&dt=450&dt=430&dt=1540&dt=460&dt=410&dt=370&dt=480&dt=390&dt=500&dt=510&dt=520&dt=490&dt=300&dt=310&dt=320&dt=330&dt=340&dt=350&ps=100\""
   ]
  },
  {
   "cell_type": "code",
   "execution_count": 129,
   "metadata": {},
   "outputs": [],
   "source": [
    "with open(\"finished.txt\",\"r\") as infile: \n",
    "    fin = int(infile.read())"
   ]
  },
  {
   "cell_type": "code",
   "execution_count": 130,
   "metadata": {},
   "outputs": [],
   "source": [
    "with open(\"Results.json\",\"r\") as infile:\n",
    "    links = json.load(infile)"
   ]
  },
  {
   "cell_type": "code",
   "execution_count": 131,
   "metadata": {},
   "outputs": [],
   "source": [
    "checked = []"
   ]
  },
  {
   "cell_type": "code",
   "execution_count": 132,
   "metadata": {},
   "outputs": [],
   "source": [
    "class element_has_value(object):\n",
    "    def __init__(self,locator,value):\n",
    "        self.locator = locator \n",
    "        self.value = value \n",
    "    def __call__(self,driver):\n",
    "        element = driver.find_element(*self.locator)\n",
    "        if self.value == element.get_attribute('id'):\n",
    "            return element\n",
    "        else:\n",
    "            return False "
   ]
  },
  {
   "cell_type": "code",
   "execution_count": 133,
   "metadata": {},
   "outputs": [
    {
     "name": "stdout",
     "output_type": "stream",
     "text": [
      "Currently on year 2022 - Length of list = 187817\n",
      "Currently on year 2023 - Length of list = 191423\n"
     ]
    }
   ],
   "source": [
    "for i in range(1665,2024): \n",
    "    if i <= fin: \n",
    "        continue \n",
    "    if i in checked:\n",
    "        continue \n",
    "    if i < 1900: \n",
    "        max_year = i + 100\n",
    "        print(f\"Currently on year {i} - Length of list = {len(links)}\")\n",
    "        driver = webdriver.Chrome(service=Service(ChromeDriverManager().install()))\n",
    "        driver.get(base_url + f\"&yh={i + 100}&yl={i}\")\n",
    "        wait = WebDriverWait(driver,10)\n",
    "        element = wait.until(element_has_value((By.XPATH, '//button[@aria-current=\"true\"]'),\"1\"))\n",
    "        \n",
    "        elem = driver.find_elements(By.CLASS_NAME, \"document-entry\")\n",
    "        if len(elem) == 0: \n",
    "            continue \n",
    "        for element in elem:\n",
    "            links.append(element.get_attribute('about'))\n",
    "        old_elem = elem\n",
    "        tmp_count = 1\n",
    "        while len(elem) == 100: \n",
    "            try: \n",
    "                button_next = driver.find_element(By.ID, \"Næste\")\n",
    "            except Exception: \n",
    "                break \n",
    "            button_next.click()\n",
    "            WebDriverWait(driver,10).until(element_has_value((By.XPATH, '//button[@aria-current=\"true\"]'),f\"{tmp_count+1}\"))\n",
    "            tmp_count += 1 \n",
    "            elem = driver.find_elements(By.CLASS_NAME, \"document-entry\")\n",
    "            if elem == old_elem:\n",
    "                break \n",
    "            for element in elem:\n",
    "                links.append(element.get_attribute('about'))\n",
    "            old_elem = elem \n",
    "        driver.close()\n",
    "        for j in range(i,i+100): \n",
    "            checked.append(j)\n",
    "    elif i < 1975: \n",
    "        max_year = i + 10 \n",
    "        print(f\"Currently on year {i} - Length of list = {len(links)}\")\n",
    "        driver = webdriver.Chrome(service=Service(ChromeDriverManager().install()))\n",
    "        driver.get(base_url + f\"&yh={i + 10}&yl={i}\")\n",
    "        wait = WebDriverWait(driver,10)\n",
    "        element = wait.until(element_has_value((By.ID, \"Næste\"),\"Næste\"))\n",
    "        \n",
    "        elem = driver.find_elements(By.CLASS_NAME, \"document-entry\")\n",
    "        if len(elem) == 0: \n",
    "            continue \n",
    "        for element in elem:\n",
    "            links.append(element.get_attribute('about'))\n",
    "        old_elem = elem\n",
    "        tmp_count = 1 \n",
    "        while len(elem) == 100: \n",
    "            try: \n",
    "                button_next = driver.find_element(By.ID, \"Næste\")\n",
    "            except Exception: \n",
    "                break \n",
    "            button_next.click()\n",
    "            WebDriverWait(driver,10).until(element_has_value((By.XPATH, '//button[@aria-current=\"true\"]'),f\"{tmp_count+1}\"))\n",
    "            tmp_count += 1 \n",
    "            elem = driver.find_elements(By.CLASS_NAME, \"document-entry\")\n",
    "            if elem == old_elem:\n",
    "                break \n",
    "            for element in elem:\n",
    "                links.append(element.get_attribute('about'))\n",
    "            old_elem = elem \n",
    "        driver.close()\n",
    "        for j in range(i,i+10): \n",
    "            checked.append(j)\n",
    "    else: \n",
    "        max_year = i \n",
    "        print(f\"Currently on year {i} - Length of list = {len(links)}\")\n",
    "        driver = webdriver.Chrome(service=Service(ChromeDriverManager().install()))\n",
    "        driver.get(base_url + f\"&yh={i}&yl={i}\")\n",
    "        time.sleep(5)        \n",
    "        elem = driver.find_elements(By.CLASS_NAME, \"document-entry\")\n",
    "        if len(elem) == 0: \n",
    "            continue \n",
    "        for element in elem:\n",
    "            links.append(element.get_attribute('about'))\n",
    "        old_elem = elem \n",
    "        tmp_count = 1 \n",
    "        while len(elem) == 100: \n",
    "            try: \n",
    "                button_next = driver.find_element(By.ID, \"Næste\")\n",
    "            except Exception: \n",
    "                break \n",
    "            button_next.click()\n",
    "            time.sleep(2)\n",
    "            tmp_count += 1 \n",
    "            elem = driver.find_elements(By.CLASS_NAME, \"document-entry\")\n",
    "            if elem == old_elem:\n",
    "                break \n",
    "            for element in elem:\n",
    "                links.append(element.get_attribute('about'))\n",
    "            old_elem = elem \n",
    "        driver.close()\n",
    "    with open(\"Results.json\",\"w\") as outfile: \n",
    "        json.dump(links,outfile,indent=4,ensure_ascii=False)\n",
    "    with open(\"finished.txt\",\"w\") as outfile:\n",
    "        outfile.write(str(max_year))\n",
    "        "
   ]
  }
 ],
 "metadata": {
  "kernelspec": {
   "display_name": "Python 3",
   "language": "python",
   "name": "python3"
  },
  "language_info": {
   "codemirror_mode": {
    "name": "ipython",
    "version": 3
   },
   "file_extension": ".py",
   "mimetype": "text/x-python",
   "name": "python",
   "nbconvert_exporter": "python",
   "pygments_lexer": "ipython3",
   "version": "3.10.6"
  },
  "orig_nbformat": 4,
  "vscode": {
   "interpreter": {
    "hash": "e7370f93d1d0cde622a1f8e1c04877d8463912d04d973331ad4851f04de6915a"
   }
  }
 },
 "nbformat": 4,
 "nbformat_minor": 2
}

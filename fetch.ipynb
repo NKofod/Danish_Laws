{
 "cells": [
  {
   "cell_type": "code",
   "execution_count": 17,
   "metadata": {},
   "outputs": [],
   "source": [
    "import requests \n",
    "import json \n",
    "from bs4 import BeautifulSoup as Soup\n",
    "import re \n"
   ]
  },
  {
   "cell_type": "code",
   "execution_count": 18,
   "metadata": {},
   "outputs": [],
   "source": [
    "def get_all_documents(year):\n",
    "    links = []\n",
    "    base_url = f\"https://www.retsinformation.dk/api/documentsearch?o=80&ps=100&yl={year}&yh={year}\"\n",
    "    tmp_request = requests.get(base_url)\n",
    "    tmp_json = json.loads(tmp_request.content)\n",
    "    if int(tmp_json['pageCount']) != 0:\n",
    "        for i in tmp_json['documents']:\n",
    "            links.append(i['retsinfoLink'])\n",
    "    if int(tmp_json['pageCount']) > 1: \n",
    "        for i in range(1,int(tmp_json['pageCount'])):\n",
    "            print(f\"{year} - {i}\")\n",
    "            tmp_request = requests.get(base_url+f\"&page={i}\")\n",
    "            tmp_json = json.loads(tmp_request.content)\n",
    "            for i in tmp_json['documents']:\n",
    "                links.append(i['retsinfoLink'])\n",
    "    return links "
   ]
  },
  {
   "cell_type": "code",
   "execution_count": 19,
   "metadata": {},
   "outputs": [],
   "source": [
    "def get_accn(links): \n",
    "    accn_codes = []\n",
    "    base_url = \"https://www.retsinformation.dk/api/document\"\n",
    "    for link in links: \n",
    "        tmp_url = base_url + link \n",
    "        tmp_request = requests.get(tmp_url)\n",
    "        try: \n",
    "            tmp_json = json.loads(tmp_request.content) \n",
    "        except json.JSONDecodeError:\n",
    "            with open(\"errors.txt\",\"a\") as outfile:\n",
    "                outfile.write(link + \"\\n\")\n",
    "        for meta in tmp_json[0]['metadata']:\n",
    "            if meta['displayName'] == 'Accession':\n",
    "                accn_codes.append(meta['displayValue'])\n",
    "                try: \n",
    "                    with open(f\"./files/{meta['displayValue']}.json\",\"w\") as outfile:\n",
    "                        json.dump(tmp_json[0],outfile,indent=4,ensure_ascii=False)\n",
    "                    print(f\"Finished {meta['displayValue']}\")\n",
    "                except UnicodeEncodeError as e: \n",
    "                    with open(\"errors.txt\",\"a\") as outfile:\n",
    "                        outfile.write(meta['displayValue'] + \"\\n\")\n",
    "                    print(f\"Error on {meta['displayValue']}\")\n",
    "    return accn_codes\n"
   ]
  },
  {
   "cell_type": "code",
   "execution_count": 20,
   "metadata": {},
   "outputs": [
    {
     "name": "stdout",
     "output_type": "stream",
     "text": [
      "1982\n",
      "1982 - 1\n"
     ]
    }
   ],
   "source": [
    "for i in range(1982,2023):\n",
    "        print(i)\n",
    "        tmp_links = get_all_documents(i)\n",
    "        if len(tmp_links) != 0:\n",
    "            get_accn(tmp_links)"
   ]
  }
 ],
 "metadata": {
  "kernelspec": {
   "display_name": "Py_310_R_361",
   "language": "python",
   "name": "python3"
  },
  "language_info": {
   "codemirror_mode": {
    "name": "ipython",
    "version": 3
   },
   "file_extension": ".py",
   "mimetype": "text/x-python",
   "name": "python",
   "nbconvert_exporter": "python",
   "pygments_lexer": "ipython3",
   "version": "3.10.9"
  },
  "orig_nbformat": 4
 },
 "nbformat": 4,
 "nbformat_minor": 2
}
